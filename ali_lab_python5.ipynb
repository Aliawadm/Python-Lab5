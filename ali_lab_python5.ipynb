{
 "cells": [
  {
   "cell_type": "code",
   "execution_count": 1,
   "id": "095e29d8-1970-447e-b85d-194a28dc55a7",
   "metadata": {},
   "outputs": [],
   "source": [
    "def Fun(x):\n",
    "  y=x\n",
    "  while y!=0:\n",
    "    d = y\n",
    "    i=0\n",
    "    while(i <y):\n",
    "      print(d,end=\" \")\n",
    "      d-=1\n",
    "      i+=1\n",
    "    print()\n",
    "    y-=1"
   ]
  },
  {
   "cell_type": "code",
   "execution_count": 2,
   "id": "712f5f3a-cc07-4bbf-a796-aca545ca0b90",
   "metadata": {},
   "outputs": [
    {
     "name": "stdout",
     "output_type": "stream",
     "text": [
      "5 4 3 2 1 \n",
      "4 3 2 1 \n",
      "3 2 1 \n",
      "2 1 \n",
      "1 \n"
     ]
    }
   ],
   "source": [
    "Fun(5)"
   ]
  },
  {
   "cell_type": "code",
   "execution_count": null,
   "id": "f8a53153-d9f1-4409-9cc6-ebfc9e00148a",
   "metadata": {},
   "outputs": [],
   "source": []
  }
 ],
 "metadata": {
  "kernelspec": {
   "display_name": "Python 3 (ipykernel)",
   "language": "python",
   "name": "python3"
  },
  "language_info": {
   "codemirror_mode": {
    "name": "ipython",
    "version": 3
   },
   "file_extension": ".py",
   "mimetype": "text/x-python",
   "name": "python",
   "nbconvert_exporter": "python",
   "pygments_lexer": "ipython3",
   "version": "3.12.0"
  }
 },
 "nbformat": 4,
 "nbformat_minor": 5
}
